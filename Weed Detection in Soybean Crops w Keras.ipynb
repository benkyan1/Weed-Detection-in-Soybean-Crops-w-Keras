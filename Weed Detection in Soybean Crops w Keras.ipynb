{
 "cells": [
  {
   "cell_type": "code",
   "execution_count": 1,
   "metadata": {},
   "outputs": [],
   "source": [
    "import os\n",
    "import numpy as np\n",
    "import matplotlib.pyplot as plt\n",
    "import pandas as pd\n",
    "import cv2"
   ]
  },
  {
   "cell_type": "code",
   "execution_count": 2,
   "metadata": {},
   "outputs": [],
   "source": [
    "path = r\"\""
   ]
  },
  {
   "cell_type": "code",
   "execution_count": 3,
   "metadata": {},
   "outputs": [],
   "source": [
    "labels = {'broadleaf':0, 'grass':1, 'soil':2, 'soybean':3}"
   ]
  },
  {
   "cell_type": "code",
   "execution_count": 4,
   "metadata": {},
   "outputs": [],
   "source": [
    "files = []\n",
    "doc = {}\n",
    "for sub_dir in ['broadleaf', 'grass', 'soil', 'soybean']:\n",
    "    for file in os.listdir(os.path.join(path, sub_dir)):\n",
    "        image = cv2.imread(os.path.join(path, sub_dir, file))\n",
    "        image = cv2.resize(image, (100,100))\n",
    "        image = cv2.cvtColor(image, cv2.COLOR_BGR2RGB)\n",
    "        image = image.flatten()\n",
    "        doc = {'label': labels[sub_dir],'image': image}\n",
    "        files.append(doc)    \n",
    "img = pd.DataFrame(files, dtype='int')"
   ]
  },
  {
   "cell_type": "markdown",
   "metadata": {},
   "source": [
    "using subset of the data only due to computer performance"
   ]
  },
  {
   "cell_type": "code",
   "execution_count": 5,
   "metadata": {},
   "outputs": [
    {
     "name": "stdout",
     "output_type": "stream",
     "text": [
      "<class 'pandas.core.frame.DataFrame'>\n",
      "RangeIndex: 80 entries, 0 to 79\n",
      "Data columns (total 2 columns):\n",
      "image    80 non-null object\n",
      "label    80 non-null int32\n",
      "dtypes: int32(1), object(1)\n",
      "memory usage: 1.0+ KB\n"
     ]
    }
   ],
   "source": [
    "img.info()"
   ]
  },
  {
   "cell_type": "code",
   "execution_count": 6,
   "metadata": {},
   "outputs": [],
   "source": [
    "y = pd.get_dummies(img['label'])\n",
    "y = y.values\n",
    "x = np.array([img['image'][i] for i in range(len(img))])"
   ]
  },
  {
   "cell_type": "code",
   "execution_count": 10,
   "metadata": {},
   "outputs": [
    {
     "data": {
      "text/plain": [
       "array([[1., 0., 0., 0.],\n",
       "       [1., 0., 0., 0.],\n",
       "       [1., 0., 0., 0.],\n",
       "       [1., 0., 0., 0.],\n",
       "       [1., 0., 0., 0.],\n",
       "       [1., 0., 0., 0.],\n",
       "       [1., 0., 0., 0.],\n",
       "       [1., 0., 0., 0.],\n",
       "       [1., 0., 0., 0.],\n",
       "       [1., 0., 0., 0.],\n",
       "       [1., 0., 0., 0.],\n",
       "       [1., 0., 0., 0.],\n",
       "       [1., 0., 0., 0.],\n",
       "       [1., 0., 0., 0.],\n",
       "       [1., 0., 0., 0.],\n",
       "       [1., 0., 0., 0.],\n",
       "       [1., 0., 0., 0.],\n",
       "       [1., 0., 0., 0.],\n",
       "       [1., 0., 0., 0.],\n",
       "       [1., 0., 0., 0.],\n",
       "       [0., 1., 0., 0.],\n",
       "       [0., 1., 0., 0.],\n",
       "       [0., 1., 0., 0.],\n",
       "       [0., 1., 0., 0.],\n",
       "       [0., 1., 0., 0.],\n",
       "       [0., 1., 0., 0.],\n",
       "       [0., 1., 0., 0.],\n",
       "       [0., 1., 0., 0.],\n",
       "       [0., 1., 0., 0.],\n",
       "       [0., 1., 0., 0.],\n",
       "       [0., 1., 0., 0.],\n",
       "       [0., 1., 0., 0.],\n",
       "       [0., 1., 0., 0.],\n",
       "       [0., 1., 0., 0.],\n",
       "       [0., 1., 0., 0.],\n",
       "       [0., 1., 0., 0.],\n",
       "       [0., 1., 0., 0.],\n",
       "       [0., 1., 0., 0.],\n",
       "       [0., 1., 0., 0.],\n",
       "       [0., 1., 0., 0.],\n",
       "       [0., 0., 1., 0.],\n",
       "       [0., 0., 1., 0.],\n",
       "       [0., 0., 1., 0.],\n",
       "       [0., 0., 1., 0.],\n",
       "       [0., 0., 1., 0.],\n",
       "       [0., 0., 1., 0.],\n",
       "       [0., 0., 1., 0.],\n",
       "       [0., 0., 1., 0.],\n",
       "       [0., 0., 1., 0.],\n",
       "       [0., 0., 1., 0.],\n",
       "       [0., 0., 1., 0.],\n",
       "       [0., 0., 1., 0.],\n",
       "       [0., 0., 1., 0.],\n",
       "       [0., 0., 1., 0.],\n",
       "       [0., 0., 1., 0.],\n",
       "       [0., 0., 1., 0.],\n",
       "       [0., 0., 1., 0.],\n",
       "       [0., 0., 1., 0.],\n",
       "       [0., 0., 1., 0.],\n",
       "       [0., 0., 1., 0.],\n",
       "       [0., 0., 0., 1.],\n",
       "       [0., 0., 0., 1.],\n",
       "       [0., 0., 0., 1.],\n",
       "       [0., 0., 0., 1.],\n",
       "       [0., 0., 0., 1.],\n",
       "       [0., 0., 0., 1.],\n",
       "       [0., 0., 0., 1.],\n",
       "       [0., 0., 0., 1.],\n",
       "       [0., 0., 0., 1.],\n",
       "       [0., 0., 0., 1.],\n",
       "       [0., 0., 0., 1.],\n",
       "       [0., 0., 0., 1.],\n",
       "       [0., 0., 0., 1.],\n",
       "       [0., 0., 0., 1.],\n",
       "       [0., 0., 0., 1.],\n",
       "       [0., 0., 0., 1.],\n",
       "       [0., 0., 0., 1.],\n",
       "       [0., 0., 0., 1.],\n",
       "       [0., 0., 0., 1.],\n",
       "       [0., 0., 0., 1.]])"
      ]
     },
     "execution_count": 10,
     "metadata": {},
     "output_type": "execute_result"
    }
   ],
   "source": [
    "y.astype(float)"
   ]
  },
  {
   "cell_type": "code",
   "execution_count": 11,
   "metadata": {},
   "outputs": [
    {
     "data": {
      "text/plain": [
       "array([[0., 0., 0., ..., 0., 0., 0.],\n",
       "       [0., 0., 0., ..., 0., 0., 0.],\n",
       "       [0., 0., 0., ..., 0., 0., 0.],\n",
       "       ...,\n",
       "       [0., 0., 0., ..., 0., 0., 0.],\n",
       "       [0., 0., 0., ..., 0., 0., 0.],\n",
       "       [0., 0., 0., ..., 0., 0., 0.]])"
      ]
     },
     "execution_count": 11,
     "metadata": {},
     "output_type": "execute_result"
    }
   ],
   "source": [
    "x.astype(float)"
   ]
  },
  {
   "cell_type": "code",
   "execution_count": 12,
   "metadata": {},
   "outputs": [],
   "source": [
    "from sklearn.model_selection import train_test_split"
   ]
  },
  {
   "cell_type": "code",
   "execution_count": 13,
   "metadata": {},
   "outputs": [],
   "source": [
    "X_train, X_test, y_train, y_test = train_test_split(x, y, test_size=0.3, random_state=120, shuffle=True, stratify=y)"
   ]
  },
  {
   "cell_type": "code",
   "execution_count": 14,
   "metadata": {},
   "outputs": [],
   "source": [
    "X_train = X_train/255\n",
    "X_test = X_test/255"
   ]
  },
  {
   "cell_type": "code",
   "execution_count": 15,
   "metadata": {},
   "outputs": [
    {
     "data": {
      "text/plain": [
       "<matplotlib.image.AxesImage at 0x1c1609b89e8>"
      ]
     },
     "execution_count": 15,
     "metadata": {},
     "output_type": "execute_result"
    },
    {
     "data": {
      "image/png": "[encoded data removed]",
      "text/plain": [
       "<Figure size 432x288 with 1 Axes>"
      ]
     },
     "metadata": {
      "needs_background": "light"
     },
     "output_type": "display_data"
    }
   ],
   "source": [
    "plt.imshow(X_train[0].reshape(100,100,3))"
   ]
  },
  {
   "cell_type": "code",
   "execution_count": 16,
   "metadata": {},
   "outputs": [
    {
     "name": "stderr",
     "output_type": "stream",
     "text": [
      "Using TensorFlow backend.\n"
     ]
    }
   ],
   "source": [
    "from sklearn.metrics import accuracy_score\n",
    "from keras.models import Sequential\n",
    "import keras\n",
    "from keras.layers import Dense,Activation, Dropout\n",
    "from keras.losses import categorical_crossentropy"
   ]
  },
  {
   "cell_type": "code",
   "execution_count": 17,
   "metadata": {},
   "outputs": [
    {
     "name": "stdout",
     "output_type": "stream",
     "text": [
      "WARNING:tensorflow:From C:\\Users\\Yan family\\Anaconda3\\lib\\site-packages\\keras\\backend\\tensorflow_backend.py:66: The name tf.get_default_graph is deprecated. Please use tf.compat.v1.get_default_graph instead.\n",
      "\n",
      "WARNING:tensorflow:From C:\\Users\\Yan family\\Anaconda3\\lib\\site-packages\\keras\\optimizers.py:793: The name tf.train.Optimizer is deprecated. Please use tf.compat.v1.train.Optimizer instead.\n",
      "\n"
     ]
    }
   ],
   "source": [
    "model = Sequential()\n",
    "model.add(Dense(500, activation='sigmoid'))\n",
    "model.add(Dense(500, activation='sigmoid'))\n",
    "model.add(Dropout(0.5))\n",
    "model.add(Dense(4, activation='softmax'))\n",
    "\n",
    "model.compile(loss=categorical_crossentropy,\n",
    "              optimizer=keras.optimizers.Adam(),\n",
    "              metrics=['accuracy'])"
   ]
  },
  {
   "cell_type": "code",
   "execution_count": 19,
   "metadata": {},
   "outputs": [
    {
     "name": "stdout",
     "output_type": "stream",
     "text": [
      "Train on 56 samples, validate on 24 samples\n",
      "Epoch 1/50\n",
      "56/56 [==============================] - 0s 5ms/step - loss: 0.0081 - acc: 1.0000 - val_loss: 1.3645 - val_acc: 0.6250\n",
      "Epoch 2/50\n",
      "56/56 [==============================] - 0s 5ms/step - loss: 0.0058 - acc: 1.0000 - val_loss: 1.3717 - val_acc: 0.6250\n",
      "Epoch 3/50\n",
      "56/56 [==============================] - 0s 5ms/step - loss: 0.0064 - acc: 1.0000 - val_loss: 1.3786 - val_acc: 0.6250\n",
      "Epoch 4/50\n",
      "56/56 [==============================] - 0s 5ms/step - loss: 0.0067 - acc: 1.0000 - val_loss: 1.3852 - val_acc: 0.6250\n",
      "Epoch 5/50\n",
      "56/56 [==============================] - 0s 5ms/step - loss: 0.0058 - acc: 1.0000 - val_loss: 1.3913 - val_acc: 0.6250\n",
      "Epoch 6/50\n",
      "56/56 [==============================] - 0s 5ms/step - loss: 0.0061 - acc: 1.0000 - val_loss: 1.3964 - val_acc: 0.6250\n",
      "Epoch 7/50\n",
      "56/56 [==============================] - 0s 5ms/step - loss: 0.0060 - acc: 1.0000 - val_loss: 1.4005 - val_acc: 0.6250\n",
      "Epoch 8/50\n",
      "56/56 [==============================] - 0s 5ms/step - loss: 0.0078 - acc: 1.0000 - val_loss: 1.4042 - val_acc: 0.6250\n",
      "Epoch 9/50\n",
      "56/56 [==============================] - 0s 5ms/step - loss: 0.0047 - acc: 1.0000 - val_loss: 1.4074 - val_acc: 0.6250\n",
      "Epoch 10/50\n",
      "56/56 [==============================] - 0s 5ms/step - loss: 0.0045 - acc: 1.0000 - val_loss: 1.4114 - val_acc: 0.6250\n",
      "Epoch 11/50\n",
      "56/56 [==============================] - 0s 5ms/step - loss: 0.0044 - acc: 1.0000 - val_loss: 1.4163 - val_acc: 0.6250\n",
      "Epoch 12/50\n",
      "56/56 [==============================] - 0s 5ms/step - loss: 0.0050 - acc: 1.0000 - val_loss: 1.4217 - val_acc: 0.5833\n",
      "Epoch 13/50\n",
      "56/56 [==============================] - 0s 5ms/step - loss: 0.0037 - acc: 1.0000 - val_loss: 1.4273 - val_acc: 0.5833\n",
      "Epoch 14/50\n",
      "56/56 [==============================] - 0s 5ms/step - loss: 0.0049 - acc: 1.0000 - val_loss: 1.4332 - val_acc: 0.5833\n",
      "Epoch 15/50\n",
      "56/56 [==============================] - 0s 5ms/step - loss: 0.0040 - acc: 1.0000 - val_loss: 1.4387 - val_acc: 0.5833\n",
      "Epoch 16/50\n",
      "56/56 [==============================] - 0s 5ms/step - loss: 0.0043 - acc: 1.0000 - val_loss: 1.4439 - val_acc: 0.6250\n",
      "Epoch 17/50\n",
      "56/56 [==============================] - 0s 5ms/step - loss: 0.0047 - acc: 1.0000 - val_loss: 1.4491 - val_acc: 0.6250\n",
      "Epoch 18/50\n",
      "56/56 [==============================] - 0s 5ms/step - loss: 0.0042 - acc: 1.0000 - val_loss: 1.4539 - val_acc: 0.6250\n",
      "Epoch 19/50\n",
      "56/56 [==============================] - 0s 5ms/step - loss: 0.0040 - acc: 1.0000 - val_loss: 1.4581 - val_acc: 0.6250\n",
      "Epoch 20/50\n",
      "56/56 [==============================] - 0s 5ms/step - loss: 0.0050 - acc: 1.0000 - val_loss: 1.4610 - val_acc: 0.6250\n",
      "Epoch 21/50\n",
      "56/56 [==============================] - 0s 5ms/step - loss: 0.0039 - acc: 1.0000 - val_loss: 1.4636 - val_acc: 0.5833\n",
      "Epoch 22/50\n",
      "56/56 [==============================] - 0s 5ms/step - loss: 0.0040 - acc: 1.0000 - val_loss: 1.4661 - val_acc: 0.5833\n",
      "Epoch 23/50\n",
      "56/56 [==============================] - 0s 5ms/step - loss: 0.0045 - acc: 1.0000 - val_loss: 1.4682 - val_acc: 0.5833\n",
      "Epoch 24/50\n",
      "56/56 [==============================] - 0s 5ms/step - loss: 0.0035 - acc: 1.0000 - val_loss: 1.4703 - val_acc: 0.5833\n",
      "Epoch 25/50\n",
      "56/56 [==============================] - 0s 5ms/step - loss: 0.0034 - acc: 1.0000 - val_loss: 1.4725 - val_acc: 0.5833\n",
      "Epoch 26/50\n",
      "56/56 [==============================] - 0s 5ms/step - loss: 0.0031 - acc: 1.0000 - val_loss: 1.4746 - val_acc: 0.5833\n",
      "Epoch 27/50\n",
      "56/56 [==============================] - 0s 6ms/step - loss: 0.0027 - acc: 1.0000 - val_loss: 1.4770 - val_acc: 0.5833\n",
      "Epoch 28/50\n",
      "56/56 [==============================] - 0s 5ms/step - loss: 0.0038 - acc: 1.0000 - val_loss: 1.4792 - val_acc: 0.5833\n",
      "Epoch 29/50\n",
      "56/56 [==============================] - 0s 5ms/step - loss: 0.0029 - acc: 1.0000 - val_loss: 1.4815 - val_acc: 0.5833\n",
      "Epoch 30/50\n",
      "56/56 [==============================] - 0s 5ms/step - loss: 0.0029 - acc: 1.0000 - val_loss: 1.4836 - val_acc: 0.5833\n",
      "Epoch 31/50\n",
      "56/56 [==============================] - 0s 5ms/step - loss: 0.0037 - acc: 1.0000 - val_loss: 1.4857 - val_acc: 0.5833\n",
      "Epoch 32/50\n",
      "56/56 [==============================] - 0s 5ms/step - loss: 0.0038 - acc: 1.0000 - val_loss: 1.4877 - val_acc: 0.5833\n",
      "Epoch 33/50\n",
      "56/56 [==============================] - 0s 5ms/step - loss: 0.0038 - acc: 1.0000 - val_loss: 1.4896 - val_acc: 0.5833\n",
      "Epoch 34/50\n",
      "56/56 [==============================] - 0s 5ms/step - loss: 0.0031 - acc: 1.0000 - val_loss: 1.4914 - val_acc: 0.5833\n",
      "Epoch 35/50\n",
      "56/56 [==============================] - 0s 5ms/step - loss: 0.0029 - acc: 1.0000 - val_loss: 1.4934 - val_acc: 0.5833\n",
      "Epoch 36/50\n",
      "56/56 [==============================] - 0s 5ms/step - loss: 0.0026 - acc: 1.0000 - val_loss: 1.4953 - val_acc: 0.5833\n",
      "Epoch 37/50\n",
      "56/56 [==============================] - 0s 5ms/step - loss: 0.0032 - acc: 1.0000 - val_loss: 1.4974 - val_acc: 0.5833\n",
      "Epoch 38/50\n",
      "56/56 [==============================] - 0s 5ms/step - loss: 0.0031 - acc: 1.0000 - val_loss: 1.4993 - val_acc: 0.5833\n",
      "Epoch 39/50\n",
      "56/56 [==============================] - 0s 5ms/step - loss: 0.0034 - acc: 1.0000 - val_loss: 1.5012 - val_acc: 0.5833\n",
      "Epoch 40/50\n",
      "56/56 [==============================] - 0s 5ms/step - loss: 0.0024 - acc: 1.0000 - val_loss: 1.5030 - val_acc: 0.5833\n",
      "Epoch 41/50\n",
      "56/56 [==============================] - 0s 5ms/step - loss: 0.0025 - acc: 1.0000 - val_loss: 1.5048 - val_acc: 0.5833\n",
      "Epoch 42/50\n",
      "56/56 [==============================] - 0s 5ms/step - loss: 0.0027 - acc: 1.0000 - val_loss: 1.5069 - val_acc: 0.5833\n",
      "Epoch 43/50\n",
      "56/56 [==============================] - 0s 5ms/step - loss: 0.0029 - acc: 1.0000 - val_loss: 1.5088 - val_acc: 0.5833\n",
      "Epoch 44/50\n",
      "56/56 [==============================] - 0s 5ms/step - loss: 0.0028 - acc: 1.0000 - val_loss: 1.5109 - val_acc: 0.5833\n",
      "Epoch 45/50\n",
      "56/56 [==============================] - 0s 5ms/step - loss: 0.0022 - acc: 1.0000 - val_loss: 1.5125 - val_acc: 0.5833\n",
      "Epoch 46/50\n",
      "56/56 [==============================] - 0s 5ms/step - loss: 0.0035 - acc: 1.0000 - val_loss: 1.5142 - val_acc: 0.5833\n",
      "Epoch 47/50\n",
      "56/56 [==============================] - 0s 5ms/step - loss: 0.0028 - acc: 1.0000 - val_loss: 1.5160 - val_acc: 0.5833\n",
      "Epoch 48/50\n",
      "56/56 [==============================] - 0s 5ms/step - loss: 0.0038 - acc: 1.0000 - val_loss: 1.5181 - val_acc: 0.5833\n",
      "Epoch 49/50\n",
      "56/56 [==============================] - 0s 5ms/step - loss: 0.0032 - acc: 1.0000 - val_loss: 1.5201 - val_acc: 0.5833\n",
      "Epoch 50/50\n",
      "56/56 [==============================] - 0s 5ms/step - loss: 0.0032 - acc: 1.0000 - val_loss: 1.5223 - val_acc: 0.5833\n"
     ]
    },
    {
     "data": {
      "text/plain": [
       "<keras.callbacks.History at 0x1c16930c8d0>"
      ]
     },
     "execution_count": 19,
     "metadata": {},
     "output_type": "execute_result"
    }
   ],
   "source": [
    "model.fit(X_train, y_train, batch_size=100,\n",
    "          epochs=50,\n",
    "          verbose=1,\n",
    "          validation_data=(X_test, y_test))"
   ]
  },
  {
   "cell_type": "code",
   "execution_count": 22,
   "metadata": {},
   "outputs": [
    {
     "name": "stdout",
     "output_type": "stream",
     "text": [
      "Model: \"sequential_1\"\n",
      "_________________________________________________________________\n",
      "Layer (type)                 Output Shape              Param #   \n",
      "=================================================================\n",
      "dense_1 (Dense)              (None, 500)               15000500  \n",
      "_________________________________________________________________\n",
      "dense_2 (Dense)              (None, 500)               250500    \n",
      "_________________________________________________________________\n",
      "dropout_1 (Dropout)          (None, 500)               0         \n",
      "_________________________________________________________________\n",
      "dense_3 (Dense)              (None, 4)                 2004      \n",
      "=================================================================\n",
      "Total params: 15,253,004\n",
      "Trainable params: 15,253,004\n",
      "Non-trainable params: 0\n",
      "_________________________________________________________________\n"
     ]
    }
   ],
   "source": [
    "model.summary()\n",
    "\n",
    "model.compile(loss = 'categorical_crossentropy', optimizer='rmsprop', metrics=['accuracy'])\n",
    "\n",
    "model.save(\"rps.h5\")"
   ]
  }
 ],
 "metadata": {
  "kernelspec": {
   "display_name": "Python 3",
   "language": "python",
   "name": "python3"
  },
  "language_info": {
   "codemirror_mode": {
    "name": "ipython",
    "version": 3
   },
   "file_extension": ".py",
   "mimetype": "text/x-python",
   "name": "python",
   "nbconvert_exporter": "python",
   "pygments_lexer": "ipython3",
   "version": "3.7.3"
  }
 },
 "nbformat": 4,
 "nbformat_minor": 2
}
